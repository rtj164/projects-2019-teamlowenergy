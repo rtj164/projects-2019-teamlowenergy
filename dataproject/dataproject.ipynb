{
 "cells": [
  {
   "cell_type": "markdown",
   "metadata": {},
   "source": [
    "# Hej"
   ]
  },
  {
   "cell_type": "markdown",
   "metadata": {},
   "source": [
    "Denne notebook indeholder alt! Alle de store bruger denne notebook"
   ]
  },
  {
   "cell_type": "code",
   "execution_count": 2,
   "metadata": {},
   "outputs": [],
   "source": [
    "#Først importeres de relevante packages til at downloade og åbne zipfilen\n",
    "import zipfile\n",
    "import urllib.request\n",
    "import shutil\n",
    "\n",
    "#Hjemmesiden og filnavnet specificeres\n",
    "url = 'http://www.ices.dk/marine-data/Documents/CatchStats/OfficialNominalCatches.zip'\n",
    "file_name = 'OfficialNominalCatches.zip'\n",
    "\n",
    "#Vi \"kalder\" zip-filen fra url'en vha. urllib.request\n",
    "with urllib.request.urlopen(url) as response, open(file_name, 'wb') as out_file:\n",
    "    shutil.copyfileobj(response, out_file)\n",
    "    with zipfile.ZipFile(file_name) as zf:\n",
    "        zf.extractall()\n",
    "        \n"
   ]
  },
  {
   "cell_type": "markdown",
   "metadata": {},
   "source": [
    "# TODO\n",
    "- Import af excel data, formater, kode område navne til ting \"man forstår\n",
    "- Tilføj række om industri eller konsum\n",
    "- Tilføj række med priser de enkelte år\n",
    "- Cirkel diagrammer af hvad vi fanger total og i alle farvande (PLOT ALLE CIRKLER PÅ EN GANG)\n",
    "- Index kurver og total fangst (DROPDOWN MENUER)\n",
    "- Vækstrate beregninger"
   ]
  },
  {
   "cell_type": "code",
   "execution_count": null,
   "metadata": {},
   "outputs": [],
   "source": []
  },
  {
   "cell_type": "markdown",
   "metadata": {},
   "source": [
    "# Indlæs Data"
   ]
  },
  {
   "cell_type": "code",
   "execution_count": null,
   "metadata": {},
   "outputs": [],
   "source": [
    "#First we import relevant packages needed downlaod and open the zipfile\n",
    "import zipfile\n",
    "import urllib.request\n",
    "import shutil\n",
    "import pandas as pd\n",
    "\n",
    "#URL (wepbage) and file_name specifies\n",
    "url = 'http://www.ices.dk/marine-data/Documents/CatchStats/OfficialNominalCatches.zip'\n",
    "file_name = 'OfficialNominalCatches.zip'\n",
    "\n",
    "#We \"call\" the zip-filee from the url by using urllib.request\n",
    "with urllib.request.urlopen(url) as response, open(file_name, 'wb') as out_file:\n",
    "    shutil.copyfileobj(response, out_file)\n",
    "    with zipfile.ZipFile(file_name) as zf:\n",
    "        zf.extractall()"
   ]
  },
  {
   "cell_type": "code",
   "execution_count": null,
   "metadata": {},
   "outputs": [],
   "source": [
    "# Read data from file 'filename.csv' \n",
    "# (in the same directory that your python process is based)\n",
    "# Control delimiters, rows, column names with read_csv (see later) \n",
    "data = pd.read_csv(\"ICESCatchDataset2006-2016.csv\") \n",
    "\n",
    "# Preview the first 5 lines of the loaded data \n",
    "data.head()"
   ]
  },
  {
   "cell_type": "code",
   "execution_count": null,
   "metadata": {},
   "outputs": [],
   "source": [
    "#rename columns to avoid having only numbers\n",
    "yearDict = {}\n",
    "for i in range(2006, 2017): # range goes from 2006 to but not including 2017\n",
    "    yearDict[str(i)] = f'y{i}' \n",
    "\n",
    "data.rename(columns = yearDict, inplace=True)\n",
    "data.head()"
   ]
  },
  {
   "cell_type": "code",
   "execution_count": null,
   "metadata": {},
   "outputs": [],
   "source": [
    "#Drop columns if all values are NaN\n",
    "data.dropna(axis=\"columns\", how=\"all\", inplace=True)\n",
    "data.head()"
   ]
  }
 ],
 "metadata": {
  "kernelspec": {
   "display_name": "Python 3",
   "language": "python",
   "name": "python3"
  },
  "language_info": {
   "codemirror_mode": {
    "name": "ipython",
    "version": 3
   },
   "file_extension": ".py",
   "mimetype": "text/x-python",
   "name": "python",
   "nbconvert_exporter": "python",
   "pygments_lexer": "ipython3",
   "version": "3.7.1"
  }
 },
 "nbformat": 4,
 "nbformat_minor": 2
}
