{
 "cells": [
  {
   "cell_type": "markdown",
   "metadata": {},
   "source": [
    "# Hej"
   ]
  },
  {
   "cell_type": "markdown",
   "metadata": {},
   "source": [
    "Denne notebook indeholder alt! Alle de store bruger denne notebook"
   ]
  },
  {
   "cell_type": "code",
   "execution_count": 2,
   "metadata": {},
   "outputs": [],
   "source": [
    "#Først importeres de relevante packages til at downloade og åbne zipfilen\n",
    "import zipfile\n",
    "import urllib.request\n",
    "import shutil\n",
    "\n",
    "#Hjemmesiden og filnavnet specificeres\n",
    "url = 'http://www.ices.dk/marine-data/Documents/CatchStats/OfficialNominalCatches.zip'\n",
    "file_name = 'OfficialNominalCatches.zip'\n",
    "\n",
    "#Vi \"kalder\" zip-filen fra url'en vha. urllib.request\n",
    "with urllib.request.urlopen(url) as response, open(file_name, 'wb') as out_file:\n",
    "    shutil.copyfileobj(response, out_file)\n",
    "    with zipfile.ZipFile(file_name) as zf:\n",
    "        zf.extractall()"
   ]
  },
  {
   "cell_type": "markdown",
   "metadata": {},
   "source": [
    "# TODO\n",
    "- Import af excel data, formater, kode område navne til ting \"man forstår\n",
    "- Tilføj række om industri eller konsum\n",
    "- Tilføj række med priser de enkelte år\n",
    "- Cirkel diagrammer af hvad vi fanger total og i alle farvande (PLOT ALLE CIRKLER PÅ EN GANG)\n",
    "- Index kurver og total fangst (DROPDOWN MENUER)\n",
    "- Vækstrate beregninger"
   ]
  },
  {
   "cell_type": "code",
   "execution_count": null,
   "metadata": {},
   "outputs": [],
   "source": []
  },
  {
   "cell_type": "code",
   "execution_count": null,
   "metadata": {},
   "outputs": [],
   "source": []
  }
 ],
 "metadata": {
  "kernelspec": {
   "display_name": "Python 3",
   "language": "python",
   "name": "python3"
  },
  "language_info": {
   "codemirror_mode": {
    "name": "ipython",
    "version": 3
   },
   "file_extension": ".py",
   "mimetype": "text/x-python",
   "name": "python",
   "nbconvert_exporter": "python",
   "pygments_lexer": "ipython3",
   "version": "3.7.1"
  }
 },
 "nbformat": 4,
 "nbformat_minor": 2
}
